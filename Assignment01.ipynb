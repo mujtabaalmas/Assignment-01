{
 "cells": [
  {
   "cell_type": "code",
   "execution_count": 2,
   "id": "60b07dab",
   "metadata": {},
   "outputs": [],
   "source": [
    "import pandas as pd\n",
    "import numpy as np\n",
    "df = pd.read_csv(\"jsrt_metadata.csv\")"
   ]
  },
  {
   "cell_type": "code",
   "execution_count": 3,
   "id": "a9491b4a",
   "metadata": {},
   "outputs": [
    {
     "data": {
      "text/html": [
       "<div>\n",
       "<style scoped>\n",
       "    .dataframe tbody tr th:only-of-type {\n",
       "        vertical-align: middle;\n",
       "    }\n",
       "\n",
       "    .dataframe tbody tr th {\n",
       "        vertical-align: top;\n",
       "    }\n",
       "\n",
       "    .dataframe thead th {\n",
       "        text-align: right;\n",
       "    }\n",
       "</style>\n",
       "<table border=\"1\" class=\"dataframe\">\n",
       "  <thead>\n",
       "    <tr style=\"text-align: right;\">\n",
       "      <th></th>\n",
       "      <th>study_id</th>\n",
       "      <th>subtlety</th>\n",
       "      <th>size</th>\n",
       "      <th>age</th>\n",
       "      <th>gender</th>\n",
       "      <th>x</th>\n",
       "      <th>y</th>\n",
       "      <th>state</th>\n",
       "      <th>position</th>\n",
       "      <th>diagnosis</th>\n",
       "    </tr>\n",
       "  </thead>\n",
       "  <tbody>\n",
       "    <tr>\n",
       "      <th>0</th>\n",
       "      <td>JPCLN001.png</td>\n",
       "      <td>5.0</td>\n",
       "      <td>15.0</td>\n",
       "      <td>53</td>\n",
       "      <td>Male</td>\n",
       "      <td>1634.0</td>\n",
       "      <td>692.0</td>\n",
       "      <td>malignant</td>\n",
       "      <td>l.upper lobe</td>\n",
       "      <td>lung cancer</td>\n",
       "    </tr>\n",
       "    <tr>\n",
       "      <th>1</th>\n",
       "      <td>JPCLN002.png</td>\n",
       "      <td>5.0</td>\n",
       "      <td>30.0</td>\n",
       "      <td>78</td>\n",
       "      <td>Female</td>\n",
       "      <td>1614.0</td>\n",
       "      <td>1090.0</td>\n",
       "      <td>benign</td>\n",
       "      <td>l.upper lobe(S5)</td>\n",
       "      <td>pulmonary hematoma</td>\n",
       "    </tr>\n",
       "    <tr>\n",
       "      <th>2</th>\n",
       "      <td>JPCLN003.png</td>\n",
       "      <td>5.0</td>\n",
       "      <td>30.0</td>\n",
       "      <td>63</td>\n",
       "      <td>Female</td>\n",
       "      <td>1303.0</td>\n",
       "      <td>447.0</td>\n",
       "      <td>malignant</td>\n",
       "      <td>l.upper lobe(S1+2)</td>\n",
       "      <td>lung cancer</td>\n",
       "    </tr>\n",
       "    <tr>\n",
       "      <th>3</th>\n",
       "      <td>JPCLN004.png</td>\n",
       "      <td>5.0</td>\n",
       "      <td>14.0</td>\n",
       "      <td>68</td>\n",
       "      <td>Female</td>\n",
       "      <td>606.0</td>\n",
       "      <td>836.0</td>\n",
       "      <td>benign</td>\n",
       "      <td>r.upper lobe</td>\n",
       "      <td>Inflammatory mass</td>\n",
       "    </tr>\n",
       "    <tr>\n",
       "      <th>4</th>\n",
       "      <td>JPCLN005.png</td>\n",
       "      <td>5.0</td>\n",
       "      <td>35.0</td>\n",
       "      <td>73</td>\n",
       "      <td>Female</td>\n",
       "      <td>1438.0</td>\n",
       "      <td>692.0</td>\n",
       "      <td>malignant</td>\n",
       "      <td>l.upper lobe(S3)</td>\n",
       "      <td>lung cancer</td>\n",
       "    </tr>\n",
       "    <tr>\n",
       "      <th>...</th>\n",
       "      <td>...</td>\n",
       "      <td>...</td>\n",
       "      <td>...</td>\n",
       "      <td>...</td>\n",
       "      <td>...</td>\n",
       "      <td>...</td>\n",
       "      <td>...</td>\n",
       "      <td>...</td>\n",
       "      <td>...</td>\n",
       "      <td>...</td>\n",
       "    </tr>\n",
       "    <tr>\n",
       "      <th>242</th>\n",
       "      <td>JPCNN089.png</td>\n",
       "      <td>NaN</td>\n",
       "      <td>NaN</td>\n",
       "      <td>50</td>\n",
       "      <td>Male</td>\n",
       "      <td>NaN</td>\n",
       "      <td>NaN</td>\n",
       "      <td>non-nodule</td>\n",
       "      <td>NaN</td>\n",
       "      <td>NaN</td>\n",
       "    </tr>\n",
       "    <tr>\n",
       "      <th>243</th>\n",
       "      <td>JPCNN090.png</td>\n",
       "      <td>NaN</td>\n",
       "      <td>NaN</td>\n",
       "      <td>68</td>\n",
       "      <td>Female</td>\n",
       "      <td>NaN</td>\n",
       "      <td>NaN</td>\n",
       "      <td>non-nodule</td>\n",
       "      <td>NaN</td>\n",
       "      <td>NaN</td>\n",
       "    </tr>\n",
       "    <tr>\n",
       "      <th>244</th>\n",
       "      <td>JPCNN091.png</td>\n",
       "      <td>NaN</td>\n",
       "      <td>NaN</td>\n",
       "      <td>81</td>\n",
       "      <td>Male</td>\n",
       "      <td>NaN</td>\n",
       "      <td>NaN</td>\n",
       "      <td>non-nodule</td>\n",
       "      <td>NaN</td>\n",
       "      <td>NaN</td>\n",
       "    </tr>\n",
       "    <tr>\n",
       "      <th>245</th>\n",
       "      <td>JPCNN092.png</td>\n",
       "      <td>NaN</td>\n",
       "      <td>NaN</td>\n",
       "      <td>70</td>\n",
       "      <td>Female</td>\n",
       "      <td>NaN</td>\n",
       "      <td>NaN</td>\n",
       "      <td>non-nodule</td>\n",
       "      <td>NaN</td>\n",
       "      <td>NaN</td>\n",
       "    </tr>\n",
       "    <tr>\n",
       "      <th>246</th>\n",
       "      <td>JPCNN093.png</td>\n",
       "      <td>NaN</td>\n",
       "      <td>NaN</td>\n",
       "      <td>41</td>\n",
       "      <td>Male</td>\n",
       "      <td>NaN</td>\n",
       "      <td>NaN</td>\n",
       "      <td>non-nodule</td>\n",
       "      <td>NaN</td>\n",
       "      <td>NaN</td>\n",
       "    </tr>\n",
       "  </tbody>\n",
       "</table>\n",
       "<p>247 rows × 10 columns</p>\n",
       "</div>"
      ],
      "text/plain": [
       "         study_id  subtlety  size age  gender       x       y       state  \\\n",
       "0    JPCLN001.png       5.0  15.0  53    Male  1634.0   692.0   malignant   \n",
       "1    JPCLN002.png       5.0  30.0  78  Female  1614.0  1090.0      benign   \n",
       "2    JPCLN003.png       5.0  30.0  63  Female  1303.0   447.0   malignant   \n",
       "3    JPCLN004.png       5.0  14.0  68  Female   606.0   836.0      benign   \n",
       "4    JPCLN005.png       5.0  35.0  73  Female  1438.0   692.0   malignant   \n",
       "..            ...       ...   ...  ..     ...     ...     ...         ...   \n",
       "242  JPCNN089.png       NaN   NaN  50    Male     NaN     NaN  non-nodule   \n",
       "243  JPCNN090.png       NaN   NaN  68  Female     NaN     NaN  non-nodule   \n",
       "244  JPCNN091.png       NaN   NaN  81    Male     NaN     NaN  non-nodule   \n",
       "245  JPCNN092.png       NaN   NaN  70  Female     NaN     NaN  non-nodule   \n",
       "246  JPCNN093.png       NaN   NaN  41    Male     NaN     NaN  non-nodule   \n",
       "\n",
       "               position           diagnosis  \n",
       "0          l.upper lobe         lung cancer  \n",
       "1      l.upper lobe(S5)  pulmonary hematoma  \n",
       "2    l.upper lobe(S1+2)         lung cancer  \n",
       "3          r.upper lobe   Inflammatory mass  \n",
       "4      l.upper lobe(S3)         lung cancer  \n",
       "..                  ...                 ...  \n",
       "242                 NaN                 NaN  \n",
       "243                 NaN                 NaN  \n",
       "244                 NaN                 NaN  \n",
       "245                 NaN                 NaN  \n",
       "246                 NaN                 NaN  \n",
       "\n",
       "[247 rows x 10 columns]"
      ]
     },
     "execution_count": 3,
     "metadata": {},
     "output_type": "execute_result"
    }
   ],
   "source": [
    "df"
   ]
  },
  {
   "cell_type": "code",
   "execution_count": 4,
   "id": "051d33fc",
   "metadata": {},
   "outputs": [
    {
     "data": {
      "text/plain": [
       "study_id      0\n",
       "subtlety     93\n",
       "size         93\n",
       "age           0\n",
       "gender        0\n",
       "x            93\n",
       "y            93\n",
       "state         0\n",
       "position     93\n",
       "diagnosis    93\n",
       "dtype: int64"
      ]
     },
     "execution_count": 4,
     "metadata": {},
     "output_type": "execute_result"
    }
   ],
   "source": [
    "df.isnull().sum()"
   ]
  },
  {
   "cell_type": "code",
   "execution_count": 5,
   "id": "ada6d78a",
   "metadata": {},
   "outputs": [],
   "source": [
    "m = df['subtlety'].astype('float').mean()\n",
    "df['subtlety'].replace(np.nan,m, inplace = True)"
   ]
  },
  {
   "cell_type": "code",
   "execution_count": 6,
   "id": "fce53364",
   "metadata": {},
   "outputs": [],
   "source": [
    "m = df['size'].astype('float').mean()\n",
    "df['size'].replace(np.nan,m, inplace = True)"
   ]
  },
  {
   "cell_type": "code",
   "execution_count": 7,
   "id": "bf896cd1",
   "metadata": {},
   "outputs": [],
   "source": [
    "m = df['x'].astype('float').mean()\n",
    "df['x'].replace(np.nan,m, inplace = True)\n",
    "\n",
    "m = df['y'].astype('float').mean()\n",
    "df['y'].replace(np.nan,m, inplace = True)"
   ]
  },
  {
   "cell_type": "code",
   "execution_count": 8,
   "id": "c8ced2ed",
   "metadata": {},
   "outputs": [],
   "source": [
    "mx = df['position'].value_counts().idxmax()\n",
    "df['position'].replace(np.nan,mx, inplace = True)\n",
    "\n",
    "mx = df['diagnosis'].value_counts().idxmax()\n",
    "df['diagnosis'].replace(np.nan,mx, inplace = True)"
   ]
  },
  {
   "cell_type": "code",
   "execution_count": 9,
   "id": "9cd1e101",
   "metadata": {},
   "outputs": [
    {
     "data": {
      "text/plain": [
       "study_id     0\n",
       "subtlety     0\n",
       "size         0\n",
       "age          0\n",
       "gender       0\n",
       "x            0\n",
       "y            0\n",
       "state        0\n",
       "position     0\n",
       "diagnosis    0\n",
       "dtype: int64"
      ]
     },
     "execution_count": 9,
     "metadata": {},
     "output_type": "execute_result"
    }
   ],
   "source": [
    "df.isnull().sum()"
   ]
  },
  {
   "cell_type": "code",
   "execution_count": 10,
   "id": "c18c0c25",
   "metadata": {},
   "outputs": [],
   "source": [
    "mm = df['diagnosis'].value_counts()"
   ]
  },
  {
   "cell_type": "code",
   "execution_count": 11,
   "id": "f09268f8",
   "metadata": {},
   "outputs": [
    {
     "data": {
      "text/plain": [
       "lung cancer                                       149\n",
       "lung cancer(adenocarcinoma)                        23\n",
       "tuberculoma                                        14\n",
       "granuloma                                           8\n",
       "lung cancer(bronchioloalveolar cell carcinoma)      7\n",
       "unknown                                             4\n",
       "metastasis of colon cancer                          4\n",
       "inflammatory mass                                   4\n",
       "pulmonary tuberculosis                              3\n",
       "lung abscess                                        2\n",
       "Cryptococcosis                                      2\n",
       "lung cancer(squamous cell carcinoma)                2\n",
       "Inflammatory mass                                   2\n",
       "pulmonary hematoma                                  2\n",
       "susp. inflammatory mass                             2\n",
       "hamartoma                                           2\n",
       "sclerosing hemangioma                               2\n",
       "lung cancer(large cell carcinoma)                   1\n",
       "susp. hamartoma                                     1\n",
       "metastasis of uterine cancer                        1\n",
       "organizing pneumonia                                1\n",
       "metastasis of ovarian cancer                        1\n",
       "metastatic lung cancer                              1\n",
       "lung canceror metastasis                            1\n",
       "pneumonia                                           1\n",
       "calcified granuloma                                 1\n",
       "lung cancer(adenosquamous carcinoma)                1\n",
       "lung cancer(small cell carcinoma)                   1\n",
       "susp.tuberculoma                                    1\n",
       "organiging pneumonia                                1\n",
       "susp. sclerosing hemangioma                         1\n",
       "susp. lung metastasis                               1\n",
       "Name: diagnosis, dtype: int64"
      ]
     },
     "execution_count": 11,
     "metadata": {},
     "output_type": "execute_result"
    }
   ],
   "source": [
    "mm"
   ]
  },
  {
   "cell_type": "code",
   "execution_count": 12,
   "id": "44dc5a84",
   "metadata": {},
   "outputs": [
    {
     "data": {
      "text/plain": [
       "malignant     100\n",
       "non-nodule     93\n",
       "benign         54\n",
       "Name: state, dtype: int64"
      ]
     },
     "execution_count": 12,
     "metadata": {},
     "output_type": "execute_result"
    }
   ],
   "source": [
    "import matplotlib as plt\n",
    "from matplotlib import pyplot\n",
    "#, explode = [0.1,0]\n",
    "df['state'].value_counts()"
   ]
  },
  {
   "cell_type": "code",
   "execution_count": 50,
   "id": "5ca39f08",
   "metadata": {},
   "outputs": [
    {
     "data": {
      "text/plain": [
       "(array([157.,  45.,  11.,   5.,   8.,   7.,   3.,   3.,   4.,   4.]),\n",
       " array([ 0.,  3.,  6.,  9., 12., 15., 18., 21., 24., 27., 30.]),\n",
       " [<matplotlib.patches.Polygon at 0x2031da14880>])"
      ]
     },
     "execution_count": 50,
     "metadata": {},
     "output_type": "execute_result"
    },
    {
     "data": {
      "image/png": "[encoded data removed]",
      "text/plain": [
       "<Figure size 432x288 with 1 Axes>"
      ]
     },
     "metadata": {
      "needs_background": "light"
     },
     "output_type": "display_data"
    }
   ],
   "source": [
    "plt.pyplot.hist(df['diagnosis'], histtype = 'stepfilled')"
   ]
  },
  {
   "cell_type": "code",
   "execution_count": 14,
   "id": "9e34a7a4",
   "metadata": {},
   "outputs": [],
   "source": [
    "df.replace(\"non-nodule\",np.nan,inplace = True)\n",
    "mx = df['state'].value_counts().idxmax()\n",
    "df['state'].replace(np.nan,mx, inplace = True)\n",
    "\n",
    "df.replace(\"unknown\",np.nan,inplace = True)\n",
    "mx = df['diagnosis'].value_counts().idxmax()\n",
    "df['diagnosis'].replace(np.nan,mx, inplace = True)"
   ]
  },
  {
   "cell_type": "code",
   "execution_count": 58,
   "id": "baedb3b3",
   "metadata": {},
   "outputs": [
    {
     "data": {
      "text/plain": [
       "([<matplotlib.patches.Wedge at 0x2031dc5fac0>,\n",
       "  <matplotlib.patches.Wedge at 0x2031dc6e4f0>],\n",
       " [Text(-0.850588847327074, 0.6974945252851811, 'Malignant'),\n",
       "  Text(0.9279151774158769, -0.7609030316152393, 'Benign')],\n",
       " [Text(-0.4639575530874948, 0.38045155924646235, '78.1%'),\n",
       "  Text(0.5412838534925948, -0.44386010177555624, '21.9%')])"
      ]
     },
     "execution_count": 58,
     "metadata": {},
     "output_type": "execute_result"
    },
    {
     "data": {
      "image/png": "[encoded data removed]",
      "text/plain": [
       "<Figure size 432x288 with 1 Axes>"
      ]
     },
     "metadata": {},
     "output_type": "display_data"
    }
   ],
   "source": [
    "plt.pyplot.pie(df['state'].value_counts(),explode = [0,0.1]\n",
    "              ,shadow = True,\n",
    "               labels = ['Malignant','Benign'],\n",
    "              colors = ['Yellow','Red'],\n",
    "              autopct = '%1.1f%%')"
   ]
  },
  {
   "cell_type": "code",
   "execution_count": 16,
   "id": "1670a805",
   "metadata": {},
   "outputs": [],
   "source": [
    "df.to_csv(\"jsrt_metadata.csv\")"
   ]
  },
  {
   "cell_type": "code",
   "execution_count": 17,
   "id": "a8a048a1",
   "metadata": {},
   "outputs": [
    {
     "data": {
      "text/plain": [
       "lung cancer                                       153\n",
       "lung cancer(adenocarcinoma)                        23\n",
       "tuberculoma                                        14\n",
       "granuloma                                           8\n",
       "lung cancer(bronchioloalveolar cell carcinoma)      7\n",
       "metastasis of colon cancer                          4\n",
       "inflammatory mass                                   4\n",
       "pulmonary tuberculosis                              3\n",
       "lung abscess                                        2\n",
       "Cryptococcosis                                      2\n",
       "lung cancer(squamous cell carcinoma)                2\n",
       "Inflammatory mass                                   2\n",
       "pulmonary hematoma                                  2\n",
       "susp. inflammatory mass                             2\n",
       "hamartoma                                           2\n",
       "sclerosing hemangioma                               2\n",
       "lung cancer(large cell carcinoma)                   1\n",
       "susp. hamartoma                                     1\n",
       "metastasis of uterine cancer                        1\n",
       "organizing pneumonia                                1\n",
       "metastasis of ovarian cancer                        1\n",
       "metastatic lung cancer                              1\n",
       "lung canceror metastasis                            1\n",
       "pneumonia                                           1\n",
       "calcified granuloma                                 1\n",
       "lung cancer(adenosquamous carcinoma)                1\n",
       "lung cancer(small cell carcinoma)                   1\n",
       "susp.tuberculoma                                    1\n",
       "organiging pneumonia                                1\n",
       "susp. sclerosing hemangioma                         1\n",
       "susp. lung metastasis                               1\n",
       "Name: diagnosis, dtype: int64"
      ]
     },
     "execution_count": 17,
     "metadata": {},
     "output_type": "execute_result"
    }
   ],
   "source": [
    "df['diagnosis'].value_counts()"
   ]
  }
 ],
 "metadata": {
  "kernelspec": {
   "display_name": "Python 3 (ipykernel)",
   "language": "python",
   "name": "python3"
  },
  "language_info": {
   "codemirror_mode": {
    "name": "ipython",
    "version": 3
   },
   "file_extension": ".py",
   "mimetype": "text/x-python",
   "name": "python",
   "nbconvert_exporter": "python",
   "pygments_lexer": "ipython3",
   "version": "3.9.7"
  }
 },
 "nbformat": 4,
 "nbformat_minor": 5
}
